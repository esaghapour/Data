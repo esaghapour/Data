{
  "nbformat": 4,
  "nbformat_minor": 0,
  "metadata": {
    "colab": {
      "provenance": [],
      "authorship_tag": "ABX9TyOcXwBPmGNlmkRLkeCD9/VB",
      "include_colab_link": true
    },
    "kernelspec": {
      "name": "python3",
      "display_name": "Python 3"
    },
    "language_info": {
      "name": "python"
    }
  },
  "cells": [
    {
      "cell_type": "markdown",
      "metadata": {
        "id": "view-in-github",
        "colab_type": "text"
      },
      "source": [
        "<a href=\"https://colab.research.google.com/github/esaghapour/Data/blob/main/CHOP_Data_Exercise___Ehsan_Saghapour%2C_PH_D.ipynb\" target=\"_parent\"><img src=\"https://colab.research.google.com/assets/colab-badge.svg\" alt=\"Open In Colab\"/></a>"
      ]
    },
    {
      "cell_type": "markdown",
      "source": [
        "*The code is written by **Ehsan Saghapour, Ph.D**. This code shows the style of my programming language.*"
      ],
      "metadata": {
        "id": "L-jOSRP9d8jS"
      }
    },
    {
      "cell_type": "markdown",
      "source": [
        "#**Clone the GitHub repository into the Google Drive**"
      ],
      "metadata": {
        "id": "6vvt5TvAcklF"
      }
    },
    {
      "cell_type": "code",
      "execution_count": 30,
      "metadata": {
        "colab": {
          "base_uri": "https://localhost:8080/"
        },
        "id": "0SvC129qc5jo",
        "outputId": "8303a77a-1a89-4cda-d34c-a71d8ef4b438"
      },
      "outputs": [
        {
          "output_type": "stream",
          "name": "stdout",
          "text": [
            "fatal: destination path 'analyst-take-home-task' already exists and is not an empty directory.\n"
          ]
        }
      ],
      "source": [
        "!git clone https://github.com/chop-analytics/analyst-take-home-task"
      ]
    },
    {
      "cell_type": "markdown",
      "source": [
        "# **Import packages**"
      ],
      "metadata": {
        "id": "wauUOl0RcWP6"
      }
    },
    {
      "cell_type": "code",
      "source": [
        "import pandas as pd\n",
        "import numpy as np\n",
        "import warnings\n",
        "warnings.filterwarnings('ignore')"
      ],
      "metadata": {
        "id": "Hl-jMrqRdUN3"
      },
      "execution_count": 31,
      "outputs": []
    },
    {
      "cell_type": "markdown",
      "source": [
        "# **Read Datasets**"
      ],
      "metadata": {
        "id": "DJRuryzZcOMp"
      }
    },
    {
      "cell_type": "code",
      "source": [
        "allergies= pd.read_csv('/content/analyst-take-home-task/datasets/allergies.csv')\n",
        "encounters= pd.read_csv('/content/analyst-take-home-task/datasets/encounters.csv')\n",
        "medications= pd.read_csv('/content/analyst-take-home-task/datasets/medications.csv')\n",
        "patients= pd.read_csv('/content/analyst-take-home-task/datasets/patients.csv')\n",
        "procedures= pd.read_csv('//content/analyst-take-home-task/datasets/procedures.csv')"
      ],
      "metadata": {
        "id": "gjNTsW3FdNHn"
      },
      "execution_count": 32,
      "outputs": []
    },
    {
      "cell_type": "code",
      "source": [
        "patients=patients.set_index('Id')\n",
        "medications=medications.set_index('PATIENT')"
      ],
      "metadata": {
        "id": "YRLTj5pUZf1O"
      },
      "execution_count": 33,
      "outputs": []
    },
    {
      "cell_type": "markdown",
      "source": [
        "# **Part 1: Assemble the project cohort**\n",
        "\n",
        "1.   The patient’s visit is an encounter for drug overdose.\n",
        "2.   The hospital encounter occurs after July 15, 1999\n",
        "3.   The patient’s age at time of encounter is between 18 and 35 (Patient is considered to be 35 until turning 36)"
      ],
      "metadata": {
        "id": "kLOascITbPAk"
      }
    },
    {
      "cell_type": "code",
      "source": [
        "encounters=encounters[(encounters.DESCRIPTION == 'Drug rehabilitation and detoxification')]  # The patient’s visit is an encounter for drug overdose\n",
        "encounters['START_STOP']=(pd.to_datetime(encounters['STOP']).dt.date-pd.to_datetime(encounters['START']).dt.date)/np.timedelta64(1, 'D')\n",
        "encounters['START_STOP']=np.round(encounters['START_STOP'])\n",
        "encounters = encounters.loc[(encounters['START'] > '1999-07-15')]  # after July 15, 1999\n",
        "encounters=encounters.sort_values(by=['START'])\n",
        "filtered_encounters=encounters.drop_duplicates(subset=['PATIENT'], keep='first')\n",
        "filtered_encounters=filtered_encounters.set_index('PATIENT')\n",
        "encounters=encounters.set_index('PATIENT')\n",
        "\n",
        "combine_encounters_patients1= pd.merge(patients,filtered_encounters,how='inner',left_index=True,right_index=True)\n",
        "\n",
        "combine_encounters_patients1['age']=(pd.to_datetime(combine_encounters_patients1['START']).dt.date-pd.to_datetime(combine_encounters_patients1['BIRTHDATE']).dt.date)/np.timedelta64(1, 'Y')\n",
        "\n",
        "combine_encounters_patients1 = combine_encounters_patients1.loc[(combine_encounters_patients1['age'] >= 18) & (combine_encounters_patients1['age']<36)]  #The patient’s age at time of encounter is between 18 and 35 \n",
        "\n",
        "combine_encounters_patients1=combine_encounters_patients1[['START','STOP','age','DEATHDATE','START_STOP','Id']]\n",
        "\n",
        "combine_encounters_patients1['age2']=(pd.to_datetime(combine_encounters_patients1['DEATHDATE']).dt.date-pd.to_datetime(combine_encounters_patients1['STOP']).dt.date)/np.timedelta64(1, 'D')"
      ],
      "metadata": {
        "id": "KjEvwPJHxUZS"
      },
      "execution_count": 34,
      "outputs": []
    },
    {
      "cell_type": "code",
      "source": [
        "combine_encounters_patients1['Last_Day_STOP']=combine_encounters_patients1['STOP']\n",
        "out=[]\n",
        "for name in combine_encounters_patients1.index:\n",
        "    idx=encounters.index==name\n",
        "    ss=encounters[['START','STOP']][idx]\n",
        "    ss=ss.sort_values(by=['START'])\n",
        "    idx1=combine_encounters_patients1.index==name\n",
        "    combine_encounters_patients1['Last_Day_STOP'][idx1]=ss['STOP'][-1]\n"
      ],
      "metadata": {
        "id": "j2nOQI_WyqwR"
      },
      "execution_count": 35,
      "outputs": []
    },
    {
      "cell_type": "markdown",
      "source": [
        "# **Part 2: Create additional fields**"
      ],
      "metadata": {
        "id": "JaqHOOpjb1ZP"
      }
    },
    {
      "cell_type": "markdown",
      "source": [
        "1. **DEATH_AT_VISIT_IND:**  1 if patient died during the drug overdose encounter, 0 if the patient died at a different time\n"
      ],
      "metadata": {
        "id": "Y4XRDAgfIfEc"
      }
    },
    {
      "cell_type": "code",
      "source": [
        "combine_encounters_patients1['DEATH_AT_VISIT_IND']=(pd.to_datetime(combine_encounters_patients1['DEATHDATE']).dt.date-pd.to_datetime(combine_encounters_patients1['Last_Day_STOP']).dt.date)/np.timedelta64(1, 'D')\n",
        "idx=combine_encounters_patients1['DEATH_AT_VISIT_IND']==0\n",
        "combine_encounters_patients1['DEATH_AT_VISIT_IND'][idx]=1\n",
        "combine_encounters_patients1['DEATH_AT_VISIT_IND'][~idx]=0"
      ],
      "metadata": {
        "id": "AyTSq-Y16Zl0"
      },
      "execution_count": 36,
      "outputs": []
    },
    {
      "cell_type": "markdown",
      "source": [
        "2.**COUNT_CURRENT_MEDS:** Count of active medications at the start of the drug overdose encounter"
      ],
      "metadata": {
        "id": "vPFoujXKJQen"
      }
    },
    {
      "cell_type": "code",
      "source": [
        "combine_encounters_patients1['COUNT_CURRENT_MEDS']=0\n",
        "out=[]\n",
        "for name in combine_encounters_patients1.index:\n",
        "    idx=medications.index==name\n",
        "    ss=medications[['DESCRIPTION']][idx]\n",
        "    \n",
        "    combine_encounters_patients1['COUNT_CURRENT_MEDS'][name]=len(np.unique(ss))"
      ],
      "metadata": {
        "id": "e2943I5H9knP"
      },
      "execution_count": 37,
      "outputs": []
    },
    {
      "cell_type": "markdown",
      "source": [
        "3. **CURRENT_OPIOID_IND:** 1 if the patient had at least one active medication at the start of the overdose encounter that is on the Opioids List (provided below), 0 if not. \n",
        "\n",
        "**Opioids List**:\n",
        "*   Hydromorphone 325Mg\n",
        "*   Fentanyl – 100 MCG\n",
        "*   Oxycodone-acetaminophen 100 Ml\n"
      ],
      "metadata": {
        "id": "AbCn19UNLNZm"
      }
    },
    {
      "cell_type": "code",
      "source": [
        "combine_encounters_patients1['CURRENT_OPIOID_IND']=0\n",
        "out=[]\n",
        "for name in combine_encounters_patients1.index:\n",
        "    idx=medications.index==name\n",
        "    ss=medications[['DESCRIPTION']][idx]\n",
        "    k=(ss == 'Hydromorphone 325 MG') | (ss== 'Fentanyl 100 MCG') | (ss=='Oxycodone-acetaminophen 100ML') \n",
        "\n",
        "    if len(np.where(k==True)[0])>0:\n",
        "       combine_encounters_patients1['CURRENT_OPIOID_IND'][name]=1\n",
        "    else:\n",
        "      combine_encounters_patients1['CURRENT_OPIOID_IND'][name]=0"
      ],
      "metadata": {
        "id": "JklcnZ5RLMUI"
      },
      "execution_count": 38,
      "outputs": []
    },
    {
      "cell_type": "markdown",
      "source": [
        "**----------------------------------------------------------------------------------------------------------------**"
      ],
      "metadata": {
        "id": "lBASK7nYKFj2"
      }
    },
    {
      "cell_type": "markdown",
      "source": [
        "\n",
        "4. **READMISSION_90_DAY_IND:** 1 if the visit resulted in a subsequent drug overdose readmission within 90 days, 0 if not\n",
        "5. **READMISSION_30_DAY_IND:** 1 if the visit resulted in a subsequent drug overdose readmission within 30 days, 0 if not overdose encounter, 0 if not\n",
        "6. **FIRST_READMISSION_DATE:** The date of the index visit's first readmission for drug overdose. Field should be left as N/A if no readmission for drug overdose within 90 days"
      ],
      "metadata": {
        "id": "00Ymzz90J0Vu"
      }
    },
    {
      "cell_type": "code",
      "source": [
        "combine_encounters_patients1['FIRST_READMISSION_DATE']=combine_encounters_patients1['STOP']\n",
        "combine_encounters_patients1['READMISSION_90_DAY_IND']=0\n",
        "combine_encounters_patients1['READMISSION_30_DAY_IND']=0"
      ],
      "metadata": {
        "id": "yT2hZqEnGWfB"
      },
      "execution_count": 39,
      "outputs": []
    },
    {
      "cell_type": "code",
      "source": [
        "out=[]\n",
        "for name in combine_encounters_patients1.index:\n",
        "    idx=encounters.index==name\n",
        "    ss=encounters[['START','STOP']][idx]\n",
        "    ss=ss.sort_values(by=['START'])\n",
        "    ss['START1']=ss['START']\n",
        "    ss['START1'][0:-1]=ss['START'][1:]\n",
        "    ss['final']=(pd.to_datetime(ss['START1']).dt.date-pd.to_datetime(ss['STOP']).dt.date)/np.timedelta64(1, 'D')\n",
        "    idx1=combine_encounters_patients1.index==name\n",
        "    combine_encounters_patients1['FIRST_READMISSION_DATE'][idx1]=ss['START1'][0]\n",
        "    combine_encounters_patients1['START'][idx1]=ss['START'][0]\n",
        "    if len(np.where(ss['final'] <=90)[0])>0 :\n",
        "        combine_encounters_patients1['READMISSION_90_DAY_IND'][idx1]=1\n",
        "    if (ss['final'][0] >90 or len(ss['final'])==1) :      \n",
        "        combine_encounters_patients1['FIRST_READMISSION_DATE'][idx1]=np.nan\n",
        "    if len(np.where(ss['final'] <=30)[0])>0 :\n",
        "        combine_encounters_patients1['READMISSION_30_DAY_IND'][idx1]=1\n"
      ],
      "metadata": {
        "id": "cg7mmuMnGazw"
      },
      "execution_count": 40,
      "outputs": []
    },
    {
      "cell_type": "code",
      "source": [
        "combine_encounters_patients1 = combine_encounters_patients1.rename(columns={'START': 'HOSPITAL_ENCOUNTER_DATE', 'age': 'AGE_AT_VISIT', 'Id': 'ENCOUNTER_ID'})\n",
        "combine_encounters_patients1.index.names = ['PATIENT_ID']"
      ],
      "metadata": {
        "id": "yoWBk41FPbpl"
      },
      "execution_count": 41,
      "outputs": []
    },
    {
      "cell_type": "code",
      "source": [
        "combine_encounters_patients1=combine_encounters_patients1[['ENCOUNTER_ID', 'HOSPITAL_ENCOUNTER_DATE', 'AGE_AT_VISIT',\n",
        "       'DEATH_AT_VISIT_IND', 'COUNT_CURRENT_MEDS', 'CURRENT_OPIOID_IND', 'READMISSION_90_DAY_IND','FIRST_READMISSION_DATE']]\n",
        "combine_encounters_patients1['DEATH_AT_VISIT_IND']=combine_encounters_patients1['DEATH_AT_VISIT_IND'].astype('int')"
      ],
      "metadata": {
        "id": "vAMLEd-MYnks"
      },
      "execution_count": 46,
      "outputs": []
    },
    {
      "cell_type": "code",
      "source": [
        "combine_encounters_patients1.head()"
      ],
      "metadata": {
        "colab": {
          "base_uri": "https://localhost:8080/",
          "height": 386
        },
        "id": "VpyQyaXadZnB",
        "outputId": "ea4015be-1507-4418-d2d9-9212039ea1fd"
      },
      "execution_count": 48,
      "outputs": [
        {
          "output_type": "execute_result",
          "data": {
            "text/plain": [
              "                                                              ENCOUNTER_ID  \\\n",
              "PATIENT_ID                                                                   \n",
              "708b81c9-21a9-411a-aae4-052ef8925b97  cc343294-f037-40c2-a02a-45c36654f268   \n",
              "ad9e95d4-f88b-4544-b5c7-12087fe1fab0  e06a082a-d4e4-48f7-aeef-910bef3deacf   \n",
              "9b5505e9-0806-47ad-8a51-adc39c20b468  2888785f-3852-4e14-ba83-b8e93a56bd01   \n",
              "f9111c77-e28f-47fe-b58e-96641f8d207c  770d1f8a-62f8-4c69-89e3-d308f4f5dc0d   \n",
              "2a9381af-2505-48cb-9299-2bed2d7593f5  9b622d84-7ce2-45c1-abca-68105be048ce   \n",
              "\n",
              "                                     HOSPITAL_ENCOUNTER_DATE  AGE_AT_VISIT  \\\n",
              "PATIENT_ID                                                                   \n",
              "708b81c9-21a9-411a-aae4-052ef8925b97     2010-05-18 21:50:51     23.554214   \n",
              "ad9e95d4-f88b-4544-b5c7-12087fe1fab0     2011-06-26 09:39:47     34.639999   \n",
              "9b5505e9-0806-47ad-8a51-adc39c20b468     2018-10-10 08:48:34     19.871729   \n",
              "f9111c77-e28f-47fe-b58e-96641f8d207c     2015-12-27 16:45:31     21.240683   \n",
              "2a9381af-2505-48cb-9299-2bed2d7593f5     2013-10-19 09:12:24     34.859032   \n",
              "\n",
              "                                      DEATH_AT_VISIT_IND  COUNT_CURRENT_MEDS  \\\n",
              "PATIENT_ID                                                                     \n",
              "708b81c9-21a9-411a-aae4-052ef8925b97                   0                   3   \n",
              "ad9e95d4-f88b-4544-b5c7-12087fe1fab0                   0                   8   \n",
              "9b5505e9-0806-47ad-8a51-adc39c20b468                   0                   6   \n",
              "f9111c77-e28f-47fe-b58e-96641f8d207c                   0                   4   \n",
              "2a9381af-2505-48cb-9299-2bed2d7593f5                   0                   2   \n",
              "\n",
              "                                      CURRENT_OPIOID_IND  \\\n",
              "PATIENT_ID                                                 \n",
              "708b81c9-21a9-411a-aae4-052ef8925b97                   0   \n",
              "ad9e95d4-f88b-4544-b5c7-12087fe1fab0                   0   \n",
              "9b5505e9-0806-47ad-8a51-adc39c20b468                   0   \n",
              "f9111c77-e28f-47fe-b58e-96641f8d207c                   0   \n",
              "2a9381af-2505-48cb-9299-2bed2d7593f5                   0   \n",
              "\n",
              "                                      READMISSION_90_DAY_IND  \\\n",
              "PATIENT_ID                                                     \n",
              "708b81c9-21a9-411a-aae4-052ef8925b97                       1   \n",
              "ad9e95d4-f88b-4544-b5c7-12087fe1fab0                       1   \n",
              "9b5505e9-0806-47ad-8a51-adc39c20b468                       1   \n",
              "f9111c77-e28f-47fe-b58e-96641f8d207c                       1   \n",
              "2a9381af-2505-48cb-9299-2bed2d7593f5                       1   \n",
              "\n",
              "                                     FIRST_READMISSION_DATE  \n",
              "PATIENT_ID                                                   \n",
              "708b81c9-21a9-411a-aae4-052ef8925b97                    NaN  \n",
              "ad9e95d4-f88b-4544-b5c7-12087fe1fab0                    NaN  \n",
              "9b5505e9-0806-47ad-8a51-adc39c20b468                    NaN  \n",
              "f9111c77-e28f-47fe-b58e-96641f8d207c                    NaN  \n",
              "2a9381af-2505-48cb-9299-2bed2d7593f5                    NaN  "
            ],
            "text/html": [
              "\n",
              "  <div id=\"df-606e6d74-2ce9-4f19-b662-3a96ffacaffc\">\n",
              "    <div class=\"colab-df-container\">\n",
              "      <div>\n",
              "<style scoped>\n",
              "    .dataframe tbody tr th:only-of-type {\n",
              "        vertical-align: middle;\n",
              "    }\n",
              "\n",
              "    .dataframe tbody tr th {\n",
              "        vertical-align: top;\n",
              "    }\n",
              "\n",
              "    .dataframe thead th {\n",
              "        text-align: right;\n",
              "    }\n",
              "</style>\n",
              "<table border=\"1\" class=\"dataframe\">\n",
              "  <thead>\n",
              "    <tr style=\"text-align: right;\">\n",
              "      <th></th>\n",
              "      <th>ENCOUNTER_ID</th>\n",
              "      <th>HOSPITAL_ENCOUNTER_DATE</th>\n",
              "      <th>AGE_AT_VISIT</th>\n",
              "      <th>DEATH_AT_VISIT_IND</th>\n",
              "      <th>COUNT_CURRENT_MEDS</th>\n",
              "      <th>CURRENT_OPIOID_IND</th>\n",
              "      <th>READMISSION_90_DAY_IND</th>\n",
              "      <th>FIRST_READMISSION_DATE</th>\n",
              "    </tr>\n",
              "    <tr>\n",
              "      <th>PATIENT_ID</th>\n",
              "      <th></th>\n",
              "      <th></th>\n",
              "      <th></th>\n",
              "      <th></th>\n",
              "      <th></th>\n",
              "      <th></th>\n",
              "      <th></th>\n",
              "      <th></th>\n",
              "    </tr>\n",
              "  </thead>\n",
              "  <tbody>\n",
              "    <tr>\n",
              "      <th>708b81c9-21a9-411a-aae4-052ef8925b97</th>\n",
              "      <td>cc343294-f037-40c2-a02a-45c36654f268</td>\n",
              "      <td>2010-05-18 21:50:51</td>\n",
              "      <td>23.554214</td>\n",
              "      <td>0</td>\n",
              "      <td>3</td>\n",
              "      <td>0</td>\n",
              "      <td>1</td>\n",
              "      <td>NaN</td>\n",
              "    </tr>\n",
              "    <tr>\n",
              "      <th>ad9e95d4-f88b-4544-b5c7-12087fe1fab0</th>\n",
              "      <td>e06a082a-d4e4-48f7-aeef-910bef3deacf</td>\n",
              "      <td>2011-06-26 09:39:47</td>\n",
              "      <td>34.639999</td>\n",
              "      <td>0</td>\n",
              "      <td>8</td>\n",
              "      <td>0</td>\n",
              "      <td>1</td>\n",
              "      <td>NaN</td>\n",
              "    </tr>\n",
              "    <tr>\n",
              "      <th>9b5505e9-0806-47ad-8a51-adc39c20b468</th>\n",
              "      <td>2888785f-3852-4e14-ba83-b8e93a56bd01</td>\n",
              "      <td>2018-10-10 08:48:34</td>\n",
              "      <td>19.871729</td>\n",
              "      <td>0</td>\n",
              "      <td>6</td>\n",
              "      <td>0</td>\n",
              "      <td>1</td>\n",
              "      <td>NaN</td>\n",
              "    </tr>\n",
              "    <tr>\n",
              "      <th>f9111c77-e28f-47fe-b58e-96641f8d207c</th>\n",
              "      <td>770d1f8a-62f8-4c69-89e3-d308f4f5dc0d</td>\n",
              "      <td>2015-12-27 16:45:31</td>\n",
              "      <td>21.240683</td>\n",
              "      <td>0</td>\n",
              "      <td>4</td>\n",
              "      <td>0</td>\n",
              "      <td>1</td>\n",
              "      <td>NaN</td>\n",
              "    </tr>\n",
              "    <tr>\n",
              "      <th>2a9381af-2505-48cb-9299-2bed2d7593f5</th>\n",
              "      <td>9b622d84-7ce2-45c1-abca-68105be048ce</td>\n",
              "      <td>2013-10-19 09:12:24</td>\n",
              "      <td>34.859032</td>\n",
              "      <td>0</td>\n",
              "      <td>2</td>\n",
              "      <td>0</td>\n",
              "      <td>1</td>\n",
              "      <td>NaN</td>\n",
              "    </tr>\n",
              "  </tbody>\n",
              "</table>\n",
              "</div>\n",
              "      <button class=\"colab-df-convert\" onclick=\"convertToInteractive('df-606e6d74-2ce9-4f19-b662-3a96ffacaffc')\"\n",
              "              title=\"Convert this dataframe to an interactive table.\"\n",
              "              style=\"display:none;\">\n",
              "        \n",
              "  <svg xmlns=\"http://www.w3.org/2000/svg\" height=\"24px\"viewBox=\"0 0 24 24\"\n",
              "       width=\"24px\">\n",
              "    <path d=\"M0 0h24v24H0V0z\" fill=\"none\"/>\n",
              "    <path d=\"M18.56 5.44l.94 2.06.94-2.06 2.06-.94-2.06-.94-.94-2.06-.94 2.06-2.06.94zm-11 1L8.5 8.5l.94-2.06 2.06-.94-2.06-.94L8.5 2.5l-.94 2.06-2.06.94zm10 10l.94 2.06.94-2.06 2.06-.94-2.06-.94-.94-2.06-.94 2.06-2.06.94z\"/><path d=\"M17.41 7.96l-1.37-1.37c-.4-.4-.92-.59-1.43-.59-.52 0-1.04.2-1.43.59L10.3 9.45l-7.72 7.72c-.78.78-.78 2.05 0 2.83L4 21.41c.39.39.9.59 1.41.59.51 0 1.02-.2 1.41-.59l7.78-7.78 2.81-2.81c.8-.78.8-2.07 0-2.86zM5.41 20L4 18.59l7.72-7.72 1.47 1.35L5.41 20z\"/>\n",
              "  </svg>\n",
              "      </button>\n",
              "      \n",
              "  <style>\n",
              "    .colab-df-container {\n",
              "      display:flex;\n",
              "      flex-wrap:wrap;\n",
              "      gap: 12px;\n",
              "    }\n",
              "\n",
              "    .colab-df-convert {\n",
              "      background-color: #E8F0FE;\n",
              "      border: none;\n",
              "      border-radius: 50%;\n",
              "      cursor: pointer;\n",
              "      display: none;\n",
              "      fill: #1967D2;\n",
              "      height: 32px;\n",
              "      padding: 0 0 0 0;\n",
              "      width: 32px;\n",
              "    }\n",
              "\n",
              "    .colab-df-convert:hover {\n",
              "      background-color: #E2EBFA;\n",
              "      box-shadow: 0px 1px 2px rgba(60, 64, 67, 0.3), 0px 1px 3px 1px rgba(60, 64, 67, 0.15);\n",
              "      fill: #174EA6;\n",
              "    }\n",
              "\n",
              "    [theme=dark] .colab-df-convert {\n",
              "      background-color: #3B4455;\n",
              "      fill: #D2E3FC;\n",
              "    }\n",
              "\n",
              "    [theme=dark] .colab-df-convert:hover {\n",
              "      background-color: #434B5C;\n",
              "      box-shadow: 0px 1px 3px 1px rgba(0, 0, 0, 0.15);\n",
              "      filter: drop-shadow(0px 1px 2px rgba(0, 0, 0, 0.3));\n",
              "      fill: #FFFFFF;\n",
              "    }\n",
              "  </style>\n",
              "\n",
              "      <script>\n",
              "        const buttonEl =\n",
              "          document.querySelector('#df-606e6d74-2ce9-4f19-b662-3a96ffacaffc button.colab-df-convert');\n",
              "        buttonEl.style.display =\n",
              "          google.colab.kernel.accessAllowed ? 'block' : 'none';\n",
              "\n",
              "        async function convertToInteractive(key) {\n",
              "          const element = document.querySelector('#df-606e6d74-2ce9-4f19-b662-3a96ffacaffc');\n",
              "          const dataTable =\n",
              "            await google.colab.kernel.invokeFunction('convertToInteractive',\n",
              "                                                     [key], {});\n",
              "          if (!dataTable) return;\n",
              "\n",
              "          const docLinkHtml = 'Like what you see? Visit the ' +\n",
              "            '<a target=\"_blank\" href=https://colab.research.google.com/notebooks/data_table.ipynb>data table notebook</a>'\n",
              "            + ' to learn more about interactive tables.';\n",
              "          element.innerHTML = '';\n",
              "          dataTable['output_type'] = 'display_data';\n",
              "          await google.colab.output.renderOutput(dataTable, element);\n",
              "          const docLink = document.createElement('div');\n",
              "          docLink.innerHTML = docLinkHtml;\n",
              "          element.appendChild(docLink);\n",
              "        }\n",
              "      </script>\n",
              "    </div>\n",
              "  </div>\n",
              "  "
            ]
          },
          "metadata": {},
          "execution_count": 48
        }
      ]
    },
    {
      "cell_type": "markdown",
      "source": [
        "# **Part 3: Export the data to a CSV file**"
      ],
      "metadata": {
        "id": "tx-sJXmHcBig"
      }
    },
    {
      "cell_type": "code",
      "source": [
        "combine_encounters_patients1.to_csv('EHSAN_SAGHAPOUR.csv')"
      ],
      "metadata": {
        "id": "x5hDq9xNYuYb"
      },
      "execution_count": 49,
      "outputs": []
    }
  ]
}